{
 "cells": [
  {
   "cell_type": "code",
   "execution_count": 1,
   "metadata": {},
   "outputs": [
    {
     "name": "stdout",
     "output_type": "stream",
     "text": [
      "['sequence.fasta', 'sequence_(1).fasta', 'sequence_(10).fasta', 'sequence_(100).fasta', 'sequence_(11).fasta', 'sequence_(12).fasta', 'sequence_(13).fasta', 'sequence_(14).fasta', 'sequence_(15).fasta', 'sequence_(16).fasta', 'sequence_(17).fasta', 'sequence_(18).fasta', 'sequence_(19).fasta', 'sequence_(2).fasta', 'sequence_(20).fasta', 'sequence_(21).fasta', 'sequence_(22).fasta', 'sequence_(23).fasta', 'sequence_(24).fasta', 'sequence_(25).fasta', 'sequence_(26).fasta', 'sequence_(27).fasta', 'sequence_(28).fasta', 'sequence_(29).fasta', 'sequence_(3).fasta', 'sequence_(30).fasta', 'sequence_(31).fasta', 'sequence_(32).fasta', 'sequence_(33).fasta', 'sequence_(34).fasta', 'sequence_(35).fasta', 'sequence_(36).fasta', 'sequence_(37).fasta', 'sequence_(38).fasta', 'sequence_(39).fasta', 'sequence_(4).fasta', 'sequence_(40).fasta', 'sequence_(41).fasta', 'sequence_(42).fasta', 'sequence_(43).fasta', 'sequence_(44).fasta', 'sequence_(45).fasta', 'sequence_(46).fasta', 'sequence_(47).fasta', 'sequence_(48).fasta', 'sequence_(49).fasta', 'sequence_(5).fasta', 'sequence_(50).fasta', 'sequence_(51).fasta', 'sequence_(52).fasta', 'sequence_(53).fasta', 'sequence_(54).fasta', 'sequence_(55).fasta', 'sequence_(56).fasta', 'sequence_(57).fasta', 'sequence_(58).fasta', 'sequence_(59).fasta', 'sequence_(6).fasta', 'sequence_(60).fasta', 'sequence_(61).fasta', 'sequence_(62).fasta', 'sequence_(63).fasta', 'sequence_(64).fasta', 'sequence_(65).fasta', 'sequence_(66).fasta', 'sequence_(67).fasta', 'sequence_(68).fasta', 'sequence_(69).fasta', 'sequence_(7).fasta', 'sequence_(70).fasta', 'sequence_(71).fasta', 'sequence_(72).fasta', 'sequence_(73).fasta', 'sequence_(74).fasta', 'sequence_(75).fasta', 'sequence_(76).fasta', 'sequence_(77).fasta', 'sequence_(78).fasta', 'sequence_(79).fasta', 'sequence_(8).fasta', 'sequence_(80).fasta', 'sequence_(81).fasta', 'sequence_(82).fasta', 'sequence_(83).fasta', 'sequence_(84).fasta', 'sequence_(85).fasta', 'sequence_(86).fasta', 'sequence_(87).fasta', 'sequence_(88).fasta', 'sequence_(89).fasta', 'sequence_(9).fasta', 'sequence_(90).fasta', 'sequence_(91).fasta', 'sequence_(92).fasta', 'sequence_(93).fasta', 'sequence_(94).fasta', 'sequence_(95).fasta', 'sequence_(96).fasta', 'sequence_(97).fasta', 'sequence_(98).fasta', 'sequence_(99).fasta', 'sequence_2023_02_01T132037166.fasta', 'sequence_2023_02_01T132040736.fasta', 'sequence_2023_02_01T132044092.fasta', 'sequence_2023_02_01T132048141.fasta', 'sequence_2023_02_01T132056962.fasta', 'sequence_2023_02_01T132100429.fasta', 'sequence_2023_02_01T132103526.fasta', 'sequence_2023_02_01T132107527.fasta', 'sequence_2023_02_01T132111408.fasta', 'sequence_2023_02_01T132115086.fasta', 'sequence_2023_02_01T132118681.fasta', 'sequence_2023_02_01T132122387.fasta', 'sequence_2023_02_01T132126433.fasta', 'sequence_2023_02_01T132130347.fasta', 'sequence_2023_02_01T132134067.fasta', 'sequence_2023_02_01T132140185.fasta']\n"
     ]
    }
   ],
   "source": [
    "# List Files\n",
    "import os\n",
    "organism_name = \"P_Aeruginosa\"\n",
    "directory = str(organism_name+ \"/\")\n",
    "file_list = os.listdir(directory)\n",
    "file_list.remove('MetaData_'+ organism_name +'.xlsx')\n",
    "print(file_list)"
   ]
  },
  {
   "cell_type": "code",
   "execution_count": 2,
   "metadata": {},
   "outputs": [],
   "source": [
    "#Append in loop \n",
    "for i in range(0,len(file_list)):\n",
    "    fin_name = str(directory + file_list[i])\n",
    "    fin = open(fin_name , \"r\")\n",
    "    data2 = fin.read()\n",
    "    fin.close()\n",
    "    fout = open(str(organism_name+ \"_sRNAs.fasta\"), \"a\")\n",
    "    fout.write(data2)\n",
    "    fout.close()"
   ]
  },
  {
   "cell_type": "code",
   "execution_count": null,
   "metadata": {},
   "outputs": [],
   "source": [
    "# Read Files\n",
    "from Bio import SeqIO\n",
    "\n",
    "name_list = []\n",
    "position_list = []\n",
    "for fasta in file_list:\n",
    "    fasta_file = str(\"H_Pylori/\" + fasta)\n",
    "    file = SeqIO.read( fasta_file, format = \"fasta\")\n",
    "    name_list.append(file.name[0:file.name.find(\":\")])\n",
    "    position_list.append(file.name[file.name.find(\":\")+1:-1])"
   ]
  }
 ],
 "metadata": {
  "kernelspec": {
   "display_name": "base",
   "language": "python",
   "name": "python3"
  },
  "language_info": {
   "codemirror_mode": {
    "name": "ipython",
    "version": 3
   },
   "file_extension": ".py",
   "mimetype": "text/x-python",
   "name": "python",
   "nbconvert_exporter": "python",
   "pygments_lexer": "ipython3",
   "version": "3.10.8 | packaged by conda-forge | (main, Nov 24 2022, 14:07:00) [MSC v.1916 64 bit (AMD64)]"
  },
  "orig_nbformat": 4,
  "vscode": {
   "interpreter": {
    "hash": "943d82ec608052bdcde81319bef95f04aeda7a5dae37441a5c7253a31189d9ff"
   }
  }
 },
 "nbformat": 4,
 "nbformat_minor": 2
}
