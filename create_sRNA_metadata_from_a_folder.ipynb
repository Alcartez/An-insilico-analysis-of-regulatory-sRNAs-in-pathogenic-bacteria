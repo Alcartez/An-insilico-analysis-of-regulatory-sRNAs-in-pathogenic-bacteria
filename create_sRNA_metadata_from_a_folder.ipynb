{
 "cells": [
  {
   "cell_type": "code",
   "execution_count": null,
   "metadata": {},
   "outputs": [],
   "source": [
    "#Test\n",
    "from Bio import SeqIO\n",
    "\n",
    "fasta = SeqIO.read(\"H_Pylori/HPylori_26695_CncR1.fasta\" , format = \"fasta\")\n",
    "print(fasta)"
   ]
  },
  {
   "cell_type": "code",
   "execution_count": null,
   "metadata": {},
   "outputs": [],
   "source": [
    "# List Files\n",
    "import os\n",
    "organism_name = \"S_Typhimurium\"\n",
    "directory = str(organism_name+ \"/sRNA_FASTA/\")\n",
    "file_list = os.listdir(directory)\n",
    "file_list.remove(str('MetaData_'+ organism_name +'.xlsx'))\n",
    "print(file_list)"
   ]
  },
  {
   "cell_type": "code",
   "execution_count": null,
   "metadata": {},
   "outputs": [],
   "source": [
    "# Read Files\n",
    "from Bio import SeqIO\n",
    "\n",
    "name_list = []\n",
    "position_list = []\n",
    "seq_list = []\n",
    "len_list = []\n",
    "for fasta in file_list:\n",
    "    fasta_file = str(directory + fasta)\n",
    "    file = SeqIO.read( fasta_file, format = \"fasta\")\n",
    "    name_list.append(file.name[0:file.name.find(\":\")])\n",
    "    position_list.append(file.name[file.name.find(\":\")+1:])\n",
    "    seq_list.append(str(file.seq))\n",
    "    len_list.append(len(file.seq))\n",
    "\n",
    "print(\"Name \\n\" , name_list)\n",
    "print(\"Positions \\n\" , position_list)\n",
    "print(\"Sequence \\n\",seq_list)\n",
    "print(\"Seq_Length \\n\" ,len_list)"
   ]
  },
  {
   "cell_type": "code",
   "execution_count": null,
   "metadata": {},
   "outputs": [],
   "source": [
    "# Edit MetaData\n",
    "import pandas as pd\n",
    " \n",
    "# read by default 1st sheet of an excel file\n",
    "dataframe = pd.DataFrame()\n",
    "#dataframe = pd.read_excel(str(directory +'MetaData_H_Pylori.xlsx'))\n",
    "dataframe[\"Position\"] = list(position_list)\n",
    "dataframe[\"Rfam_ACC\"] = list(name_list)\n",
    "dataframe[\"Sequence\"] = list(seq_list)\n",
    "dataframe[\"Sequence_Length\"] = list(len_list)\n",
    "print(dataframe)\n",
    "dataframe.to_excel(str(directory +\"MetaData_\"+ organism_name +\".xlsx\"), index = False)\n"
   ]
  }
 ],
 "metadata": {
  "kernelspec": {
   "display_name": "base",
   "language": "python",
   "name": "python3"
  },
  "language_info": {
   "codemirror_mode": {
    "name": "ipython",
    "version": 3
   },
   "file_extension": ".py",
   "mimetype": "text/x-python",
   "name": "python",
   "nbconvert_exporter": "python",
   "pygments_lexer": "ipython3",
   "version": "3.10.8"
  },
  "orig_nbformat": 4,
  "vscode": {
   "interpreter": {
    "hash": "943d82ec608052bdcde81319bef95f04aeda7a5dae37441a5c7253a31189d9ff"
   }
  }
 },
 "nbformat": 4,
 "nbformat_minor": 2
}
